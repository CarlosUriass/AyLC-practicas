{
 "cells": [
  {
   "cell_type": "code",
   "execution_count": null,
   "id": "6e574365",
   "metadata": {},
   "outputs": [],
   "source": [
    "import numpy as np\n",
    "\n",
    "# Definir matriz\n",
    "matriz = np.empty((5, 5), dtype=int)\n",
    "\n",
    "# Llenar datos matriz con números aleatorios\n",
    "for i in range(5):\n",
    "    for j in range(5):\n",
    "        # Obtener los números aleatorios\n",
    "        numero_aleatorio = np.random.randint(1, 100)\n",
    "        matriz[i, j] = numero_aleatorio  # Se le asigna el número aleatorio a la posición dada por los ciclos\n",
    "\n",
    "while True:\n",
    "    # Preguntar qué número desea encontrar dentro del arreglo\n",
    "    numero_encontrar = int(input(\"¿Qué número desea encontrar dentro del arreglo? \"))\n",
    "\n",
    "    # Variables para contar y almacenar las posiciones\n",
    "    contador = 0\n",
    "    posiciones_encontradas = \"\"\n",
    "    encontrado = False  # Redefinir falso en cada ciclo para que si es encontrado se vuelva verdadero\n",
    "\n",
    "    for k in range(5):\n",
    "        for m in range(5):\n",
    "            # Recorrer la matriz para encontrar el número que ingresó el usuario\n",
    "            if matriz[k, m] == numero_encontrar:\n",
    "                encontrado = True\n",
    "                contador += 1\n",
    "                # Agregar posición donde se encontró\n",
    "                posiciones_encontradas += f\"({k + 1},{m + 1}) \"\n",
    "\n",
    "    # Imprimir si el número fue encontrado dentro de la matriz\n",
    "    if encontrado:\n",
    "        # Imprimir resultados\n",
    "        print(f\"El número {numero_encontrar} se encontró {contador} veces en las posiciones: {posiciones_encontradas}\")\n",
    "    else:\n",
    "        print(\"El número no se encontró dentro del arreglo\")\n",
    "\n",
    "    # Preguntar si seguir buscando\n",
    "    seguir = input(\"¿Desea buscar otro número? (Escriba '1') \")\n",
    "    if seguir != \"1\":\n",
    "        break\n"
   ]
  }
 ],
 "metadata": {
  "kernelspec": {
   "display_name": "Python 3 (ipykernel)",
   "language": "python",
   "name": "python3"
  },
  "language_info": {
   "codemirror_mode": {
    "name": "ipython",
    "version": 3
   },
   "file_extension": ".py",
   "mimetype": "text/x-python",
   "name": "python",
   "nbconvert_exporter": "python",
   "pygments_lexer": "ipython3",
   "version": "3.11.4"
  }
 },
 "nbformat": 4,
 "nbformat_minor": 5
}
