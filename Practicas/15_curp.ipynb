{
 "cells": [
  {
   "cell_type": "code",
   "execution_count": null,
   "id": "e9ba71ea",
   "metadata": {},
   "outputs": [],
   "source": [
    "import numpy as np\n",
    "\n",
    "# Solicitar CURP\n",
    "print(\"Ingrese su CURP\")\n",
    "curp = input()\n",
    "\n",
    "# Inicializar array\n",
    "curp_array = np.empty(18, dtype='U1')\n",
    "\n",
    "# Ciclo for para agregar cada letra a una posición del array\n",
    "for i in range(18):\n",
    "    curp_array[i] = curp[i]\n",
    "\n",
    "# Obtener fecha de nacimiento\n",
    "fecha_nacimiento = \"\".join([curp_array[9], curp_array[10], \"-\", curp_array[7], curp_array[8], \"-\", curp_array[5], curp_array[6]])\n",
    "print(\"Su fecha de nacimiento es:\", fecha_nacimiento)\n"
   ]
  }
 ],
 "metadata": {
  "kernelspec": {
   "display_name": "Python 3 (ipykernel)",
   "language": "python",
   "name": "python3"
  },
  "language_info": {
   "codemirror_mode": {
    "name": "ipython",
    "version": 3
   },
   "file_extension": ".py",
   "mimetype": "text/x-python",
   "name": "python",
   "nbconvert_exporter": "python",
   "pygments_lexer": "ipython3",
   "version": "3.11.4"
  }
 },
 "nbformat": 4,
 "nbformat_minor": 5
}
