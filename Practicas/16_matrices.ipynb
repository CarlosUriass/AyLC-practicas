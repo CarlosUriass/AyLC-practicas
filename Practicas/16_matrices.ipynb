{
 "cells": [
  {
   "cell_type": "code",
   "execution_count": null,
   "id": "abe94424",
   "metadata": {},
   "outputs": [],
   "source": [
    "import numpy as np\n",
    "\n",
    "# Preguntar filas\n",
    "print(\"¿Cuántas filas tendrá la matriz?\")\n",
    "filas = int(input())\n",
    "\n",
    "# Preguntar columnas\n",
    "print(\"¿Cuántas columnas tendrá la matriz?\")\n",
    "columnas = int(input())\n",
    "\n",
    "# Inicializar matriz\n",
    "matriz = np.empty((filas, columnas))\n",
    "\n",
    "# Llenar datos\n",
    "for i in range(filas):\n",
    "    for j in range(columnas):\n",
    "        dato = float(input(f\"¿Qué dato desea agregar en la posición [{i+1},{j+1}]?\"))\n",
    "        matriz[i, j] = dato\n",
    "\n",
    "# Sumas de filas\n",
    "for k in range(filas):\n",
    "    suma_filas = np.sum(matriz[k, :])\n",
    "    print(f\"La suma de fila {k+1} es: {suma_filas}\")\n",
    "\n",
    "# Sumas de columnas\n",
    "for n in range(columnas):\n",
    "    suma_columna = np.sum(matriz[:, n])\n",
    "    print(f\"La suma de columna {n+1} es: {suma_columna}\")\n"
   ]
  }
 ],
 "metadata": {
  "kernelspec": {
   "display_name": "Python 3 (ipykernel)",
   "language": "python",
   "name": "python3"
  },
  "language_info": {
   "codemirror_mode": {
    "name": "ipython",
    "version": 3
   },
   "file_extension": ".py",
   "mimetype": "text/x-python",
   "name": "python",
   "nbconvert_exporter": "python",
   "pygments_lexer": "ipython3",
   "version": "3.11.4"
  }
 },
 "nbformat": 4,
 "nbformat_minor": 5
}
