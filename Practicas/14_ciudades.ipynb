{
 "cells": [
  {
   "cell_type": "code",
   "execution_count": null,
   "id": "d160ea69",
   "metadata": {},
   "outputs": [],
   "source": [
    "import numpy as np\n",
    "\n",
    "# Solicitar número de ciudades\n",
    "print(\"¿Cuántas ciudades desea agregar?\")\n",
    "num_ciudades = int(input())\n",
    "\n",
    "# Inicializar array\n",
    "ciudades = np.empty(num_ciudades, dtype='U100')\n",
    "\n",
    "for i in range(num_ciudades):\n",
    "    print(\"¿Qué ciudad desea agregar al arreglo?\")\n",
    "    ciudad = input()\n",
    "    ciudades[i] = ciudad  # Por cada ciudad que se lee se va agregando en el arreglo en la posición i\n",
    "\n",
    "print(\"¿Qué ciudad desea buscar en el arreglo?\")\n",
    "ciudad_encontrar = input()\n",
    "\n",
    "encontrado = False\n",
    "posicion = 0\n",
    "\n",
    "for j in range(num_ciudades):\n",
    "    if ciudades[j] == ciudad_encontrar:  # Validar si al recorrer el array el valor en la posición j es igual a lo que estamos buscando\n",
    "        encontrado = True\n",
    "        posicion = j + 1  # Se agrega el valor de la posición del arreglo donde se encontró la ciudad a una variable\n",
    "        break  # En caso de encontrar la ciudad, rompe el ciclo\n",
    "\n",
    "if encontrado:\n",
    "    print(f\"La ciudad: {ciudad_encontrar} está en la posición {posicion}\")\n",
    "else:\n",
    "    print(f\"La ciudad: {ciudad_encontrar} no se encontró en el arreglo\")\n"
   ]
  },
  {
   "cell_type": "code",
   "execution_count": null,
   "id": "832b4a5f",
   "metadata": {},
   "outputs": [],
   "source": []
  }
 ],
 "metadata": {
  "kernelspec": {
   "display_name": "Python 3",
   "language": "python",
   "name": "python3"
  },
  "language_info": {
   "codemirror_mode": {
    "name": "ipython",
    "version": 3
   },
   "file_extension": ".py",
   "mimetype": "text/x-python",
   "name": "python",
   "nbconvert_exporter": "python",
   "pygments_lexer": "ipython3",
   "version": "3.11.5"
  },
  "vscode": {
   "interpreter": {
    "hash": "b0fa6594d8f4cbf19f97940f81e996739fb7646882a419484c72d19e05852a7e"
   }
  }
 },
 "nbformat": 4,
 "nbformat_minor": 5
}
